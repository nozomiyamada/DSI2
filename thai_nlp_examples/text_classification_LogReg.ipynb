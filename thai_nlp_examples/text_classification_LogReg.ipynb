{
 "cells": [
  {
   "cell_type": "markdown",
   "metadata": {},
   "source": [
    "# Outline\n",
    "\n",
    "- create a model that predicts the category of each article by `LogisticRegression`\n",
    "- train data is `matichon.json` that contains about 16K articles of Thai news by Matichon between 2015-2018\n",
    "- X is text of headline or article\n",
    "- y is category (10 labels)"
   ]
  },
  {
   "cell_type": "markdown",
   "metadata": {},
   "source": [
    "# Import"
   ]
  },
  {
   "cell_type": "code",
   "execution_count": 1,
   "metadata": {},
   "outputs": [],
   "source": [
    "import pandas as pd\n",
    "import re\n",
    "\n",
    "from sklearn.linear_model import LogisticRegression\n",
    "from sklearn.feature_extraction import DictVectorizer\n",
    "from sklearn.pipeline import Pipeline\n",
    "from sklearn.metrics import classification_report\n",
    "from sklearn.model_selection import train_test_split\n",
    "\n",
    "from pythainlp.tokenize import word_tokenize\n",
    "from pythainlp.corpus import thai_stopwords"
   ]
  },
  {
   "cell_type": "markdown",
   "metadata": {},
   "source": [
    "# Load data\n",
    "\n",
    "- target variable is `category`\n",
    "- `headline` and `article` are untokenized text"
   ]
  },
  {
   "cell_type": "code",
   "execution_count": 2,
   "metadata": {},
   "outputs": [
    {
     "data": {
      "text/html": [
       "<div>\n",
       "<style scoped>\n",
       "    .dataframe tbody tr th:only-of-type {\n",
       "        vertical-align: middle;\n",
       "    }\n",
       "\n",
       "    .dataframe tbody tr th {\n",
       "        vertical-align: top;\n",
       "    }\n",
       "\n",
       "    .dataframe thead th {\n",
       "        text-align: right;\n",
       "    }\n",
       "</style>\n",
       "<table border=\"1\" class=\"dataframe\">\n",
       "  <thead>\n",
       "    <tr style=\"text-align: right;\">\n",
       "      <th></th>\n",
       "      <th>headline</th>\n",
       "      <th>article</th>\n",
       "      <th>date</th>\n",
       "      <th>category</th>\n",
       "      <th>url</th>\n",
       "      <th>id</th>\n",
       "    </tr>\n",
       "  </thead>\n",
       "  <tbody>\n",
       "    <tr>\n",
       "      <th>0</th>\n",
       "      <td>เปิดใจชัดๆ กับ'ชูวิทย์' สบู่ ขัน ต้องเตรียมไว้...</td>\n",
       "      <td>นายชูวิทย์ กมลวิศิษฎ์ หัวหน้าพรรครักประเทศไทย ...</td>\n",
       "      <td>2015-08-16 10:58:27</td>\n",
       "      <td>politics</td>\n",
       "      <td>https://www.matichon.co.th/politics/news_104</td>\n",
       "      <td>104</td>\n",
       "    </tr>\n",
       "    <tr>\n",
       "      <th>1</th>\n",
       "      <td>ลุ้นบาททะลุ40ต่อดอลล์ ปลายปี'59 เหตุสงครามค่าเ...</td>\n",
       "      <td>แบงก์ซีไอเอ็มบี ชี้การฟื้นฟูเศรษฐกิจติดปัญหารา...</td>\n",
       "      <td>2015-08-26 11:19:03</td>\n",
       "      <td>economy</td>\n",
       "      <td>https://www.matichon.co.th/economy/news_148</td>\n",
       "      <td>148</td>\n",
       "    </tr>\n",
       "    <tr>\n",
       "      <th>2</th>\n",
       "      <td>ศาลสูงแอฟริกาใต้ตัดสินให้ \"พิสตอเรียสผิดฐานฆาต...</td>\n",
       "      <td>จากรายงานของบีบีซี ออสการ์ พิสตอเรียส นักวิ่งร...</td>\n",
       "      <td>2015-12-04 02:52:25</td>\n",
       "      <td>foreign</td>\n",
       "      <td>https://www.matichon.co.th/foreign/news_247</td>\n",
       "      <td>247</td>\n",
       "    </tr>\n",
       "    <tr>\n",
       "      <th>3</th>\n",
       "      <td>แม่แดนผู้ดีฮึด! อุ้มท้องลูกแฝดแม้รู้ไม่รอด หวั...</td>\n",
       "      <td>เอ็มมา ลี คุณแม่ชาวอังกฤษ วัย 32 ปี ตัดสินใจอุ...</td>\n",
       "      <td>2015-12-04 03:11:37</td>\n",
       "      <td>foreign</td>\n",
       "      <td>https://www.matichon.co.th/foreign/news_268</td>\n",
       "      <td>268</td>\n",
       "    </tr>\n",
       "    <tr>\n",
       "      <th>4</th>\n",
       "      <td>\"ผบ.สส.\"นำทหารรักษาพระองค์ สวนสนามเทิดพระเกียร...</td>\n",
       "      <td>เมื่อวันที่ 3 ธ.ค. ที่มณฑลพิธีท้องสนามหลวง พล....</td>\n",
       "      <td>2015-12-04 03:38:05</td>\n",
       "      <td>politics</td>\n",
       "      <td>https://www.matichon.co.th/politics/news_295</td>\n",
       "      <td>295</td>\n",
       "    </tr>\n",
       "    <tr>\n",
       "      <th>...</th>\n",
       "      <td>...</td>\n",
       "      <td>...</td>\n",
       "      <td>...</td>\n",
       "      <td>...</td>\n",
       "      <td>...</td>\n",
       "      <td>...</td>\n",
       "    </tr>\n",
       "    <tr>\n",
       "      <th>16321</th>\n",
       "      <td>'ชาคริต-เรย์' เพื่อนซี้พ่อลูกอ่อนรวมก๊วน งานนี...</td>\n",
       "      <td>เป็นเพื่อนที่สนิทกันมาแต่ไหนแต่ไร แถมพอมีลูก ก...</td>\n",
       "      <td>2018-07-05 11:43:53</td>\n",
       "      <td>entertainment</td>\n",
       "      <td>https://www.matichon.co.th/entertainment/news_...</td>\n",
       "      <td>1029324</td>\n",
       "    </tr>\n",
       "    <tr>\n",
       "      <th>16322</th>\n",
       "      <td>สงขลาจัดงานสมโภช 176 ปี ศาลเจ้าพ่อหลักเมือง</td>\n",
       "      <td>วันที่ 5 ก.ค. นายสมศักดิ์ ตันติเศรณี นายก ทน.ส...</td>\n",
       "      <td>2018-07-05 10:59:53</td>\n",
       "      <td>region</td>\n",
       "      <td>https://www.matichon.co.th/region/news_1029328</td>\n",
       "      <td>1029328</td>\n",
       "    </tr>\n",
       "    <tr>\n",
       "      <th>16323</th>\n",
       "      <td>'สมคิด' ลั่น ไม่ใช่แค่สามมิตร แต่มีมวลหมู่มหาม...</td>\n",
       "      <td>\"สมคิด\" ลั่นไม่ใช่แค่สามมิตร แต่มีมวลหมู่มหามิ...</td>\n",
       "      <td>2018-07-05 12:09:08</td>\n",
       "      <td>politics</td>\n",
       "      <td>https://www.matichon.co.th/politics/news_1029410</td>\n",
       "      <td>1029410</td>\n",
       "    </tr>\n",
       "    <tr>\n",
       "      <th>16324</th>\n",
       "      <td>ม.รามฯปฐมนิเทศ นศ.ใหม่ ตั้งใจศึกษาให้สำเร็จ-มี...</td>\n",
       "      <td>ผู้ช่วยศาสตราจารย์วุฒิศักดิ์  ลาภเจริญทรัพย์ อ...</td>\n",
       "      <td>2018-07-05 13:45:34</td>\n",
       "      <td>publicize</td>\n",
       "      <td>https://www.matichon.co.th/publicize/news_1029659</td>\n",
       "      <td>1029659</td>\n",
       "    </tr>\n",
       "    <tr>\n",
       "      <th>16325</th>\n",
       "      <td>'ณรงค์ศักดิ์' บอกลา-ออกจากกลุ่มไลน์ 'หน.ส่วนรา...</td>\n",
       "      <td>\"ณรงค์ศักดิ์\" ไลน์ลา \"หัวหน้าส่วนราชการจังหวัด...</td>\n",
       "      <td>2018-07-05 15:36:04</td>\n",
       "      <td>politics</td>\n",
       "      <td>https://www.matichon.co.th/politics/news_1029955</td>\n",
       "      <td>1029955</td>\n",
       "    </tr>\n",
       "  </tbody>\n",
       "</table>\n",
       "<p>16326 rows × 6 columns</p>\n",
       "</div>"
      ],
      "text/plain": [
       "                                                headline  \\\n",
       "0      เปิดใจชัดๆ กับ'ชูวิทย์' สบู่ ขัน ต้องเตรียมไว้...   \n",
       "1      ลุ้นบาททะลุ40ต่อดอลล์ ปลายปี'59 เหตุสงครามค่าเ...   \n",
       "2      ศาลสูงแอฟริกาใต้ตัดสินให้ \"พิสตอเรียสผิดฐานฆาต...   \n",
       "3      แม่แดนผู้ดีฮึด! อุ้มท้องลูกแฝดแม้รู้ไม่รอด หวั...   \n",
       "4      \"ผบ.สส.\"นำทหารรักษาพระองค์ สวนสนามเทิดพระเกียร...   \n",
       "...                                                  ...   \n",
       "16321  'ชาคริต-เรย์' เพื่อนซี้พ่อลูกอ่อนรวมก๊วน งานนี...   \n",
       "16322        สงขลาจัดงานสมโภช 176 ปี ศาลเจ้าพ่อหลักเมือง   \n",
       "16323  'สมคิด' ลั่น ไม่ใช่แค่สามมิตร แต่มีมวลหมู่มหาม...   \n",
       "16324  ม.รามฯปฐมนิเทศ นศ.ใหม่ ตั้งใจศึกษาให้สำเร็จ-มี...   \n",
       "16325  'ณรงค์ศักดิ์' บอกลา-ออกจากกลุ่มไลน์ 'หน.ส่วนรา...   \n",
       "\n",
       "                                                 article                date  \\\n",
       "0      นายชูวิทย์ กมลวิศิษฎ์ หัวหน้าพรรครักประเทศไทย ... 2015-08-16 10:58:27   \n",
       "1      แบงก์ซีไอเอ็มบี ชี้การฟื้นฟูเศรษฐกิจติดปัญหารา... 2015-08-26 11:19:03   \n",
       "2      จากรายงานของบีบีซี ออสการ์ พิสตอเรียส นักวิ่งร... 2015-12-04 02:52:25   \n",
       "3      เอ็มมา ลี คุณแม่ชาวอังกฤษ วัย 32 ปี ตัดสินใจอุ... 2015-12-04 03:11:37   \n",
       "4      เมื่อวันที่ 3 ธ.ค. ที่มณฑลพิธีท้องสนามหลวง พล.... 2015-12-04 03:38:05   \n",
       "...                                                  ...                 ...   \n",
       "16321  เป็นเพื่อนที่สนิทกันมาแต่ไหนแต่ไร แถมพอมีลูก ก... 2018-07-05 11:43:53   \n",
       "16322  วันที่ 5 ก.ค. นายสมศักดิ์ ตันติเศรณี นายก ทน.ส... 2018-07-05 10:59:53   \n",
       "16323  \"สมคิด\" ลั่นไม่ใช่แค่สามมิตร แต่มีมวลหมู่มหามิ... 2018-07-05 12:09:08   \n",
       "16324  ผู้ช่วยศาสตราจารย์วุฒิศักดิ์  ลาภเจริญทรัพย์ อ... 2018-07-05 13:45:34   \n",
       "16325  \"ณรงค์ศักดิ์\" ไลน์ลา \"หัวหน้าส่วนราชการจังหวัด... 2018-07-05 15:36:04   \n",
       "\n",
       "            category                                                url  \\\n",
       "0           politics       https://www.matichon.co.th/politics/news_104   \n",
       "1            economy        https://www.matichon.co.th/economy/news_148   \n",
       "2            foreign        https://www.matichon.co.th/foreign/news_247   \n",
       "3            foreign        https://www.matichon.co.th/foreign/news_268   \n",
       "4           politics       https://www.matichon.co.th/politics/news_295   \n",
       "...              ...                                                ...   \n",
       "16321  entertainment  https://www.matichon.co.th/entertainment/news_...   \n",
       "16322         region     https://www.matichon.co.th/region/news_1029328   \n",
       "16323       politics   https://www.matichon.co.th/politics/news_1029410   \n",
       "16324      publicize  https://www.matichon.co.th/publicize/news_1029659   \n",
       "16325       politics   https://www.matichon.co.th/politics/news_1029955   \n",
       "\n",
       "            id  \n",
       "0          104  \n",
       "1          148  \n",
       "2          247  \n",
       "3          268  \n",
       "4          295  \n",
       "...        ...  \n",
       "16321  1029324  \n",
       "16322  1029328  \n",
       "16323  1029410  \n",
       "16324  1029659  \n",
       "16325  1029955  \n",
       "\n",
       "[16326 rows x 6 columns]"
      ]
     },
     "execution_count": 2,
     "metadata": {},
     "output_type": "execute_result"
    }
   ],
   "source": [
    "df = pd.read_json('data/matichon.json')\n",
    "df"
   ]
  },
  {
   "cell_type": "code",
   "execution_count": 3,
   "metadata": {},
   "outputs": [
    {
     "data": {
      "text/html": [
       "<div>\n",
       "<style scoped>\n",
       "    .dataframe tbody tr th:only-of-type {\n",
       "        vertical-align: middle;\n",
       "    }\n",
       "\n",
       "    .dataframe tbody tr th {\n",
       "        vertical-align: top;\n",
       "    }\n",
       "\n",
       "    .dataframe thead th {\n",
       "        text-align: right;\n",
       "    }\n",
       "</style>\n",
       "<table border=\"1\" class=\"dataframe\">\n",
       "  <thead>\n",
       "    <tr style=\"text-align: right;\">\n",
       "      <th></th>\n",
       "      <th>headline</th>\n",
       "      <th>article</th>\n",
       "      <th>category</th>\n",
       "    </tr>\n",
       "  </thead>\n",
       "  <tbody>\n",
       "    <tr>\n",
       "      <th>0</th>\n",
       "      <td>เปิดใจชัดๆ กับ'ชูวิทย์' สบู่ ขัน ต้องเตรียมไว้...</td>\n",
       "      <td>นายชูวิทย์ กมลวิศิษฎ์ หัวหน้าพรรครักประเทศไทย ...</td>\n",
       "      <td>politics</td>\n",
       "    </tr>\n",
       "    <tr>\n",
       "      <th>1</th>\n",
       "      <td>ลุ้นบาททะลุ40ต่อดอลล์ ปลายปี'59 เหตุสงครามค่าเ...</td>\n",
       "      <td>แบงก์ซีไอเอ็มบี ชี้การฟื้นฟูเศรษฐกิจติดปัญหารา...</td>\n",
       "      <td>economy</td>\n",
       "    </tr>\n",
       "    <tr>\n",
       "      <th>2</th>\n",
       "      <td>ศาลสูงแอฟริกาใต้ตัดสินให้ \"พิสตอเรียสผิดฐานฆาต...</td>\n",
       "      <td>จากรายงานของบีบีซี ออสการ์ พิสตอเรียส นักวิ่งร...</td>\n",
       "      <td>foreign</td>\n",
       "    </tr>\n",
       "    <tr>\n",
       "      <th>3</th>\n",
       "      <td>แม่แดนผู้ดีฮึด! อุ้มท้องลูกแฝดแม้รู้ไม่รอด หวั...</td>\n",
       "      <td>เอ็มมา ลี คุณแม่ชาวอังกฤษ วัย 32 ปี ตัดสินใจอุ...</td>\n",
       "      <td>foreign</td>\n",
       "    </tr>\n",
       "    <tr>\n",
       "      <th>4</th>\n",
       "      <td>\"ผบ.สส.\"นำทหารรักษาพระองค์ สวนสนามเทิดพระเกียร...</td>\n",
       "      <td>เมื่อวันที่ 3 ธ.ค. ที่มณฑลพิธีท้องสนามหลวง พล....</td>\n",
       "      <td>politics</td>\n",
       "    </tr>\n",
       "  </tbody>\n",
       "</table>\n",
       "</div>"
      ],
      "text/plain": [
       "                                            headline  \\\n",
       "0  เปิดใจชัดๆ กับ'ชูวิทย์' สบู่ ขัน ต้องเตรียมไว้...   \n",
       "1  ลุ้นบาททะลุ40ต่อดอลล์ ปลายปี'59 เหตุสงครามค่าเ...   \n",
       "2  ศาลสูงแอฟริกาใต้ตัดสินให้ \"พิสตอเรียสผิดฐานฆาต...   \n",
       "3  แม่แดนผู้ดีฮึด! อุ้มท้องลูกแฝดแม้รู้ไม่รอด หวั...   \n",
       "4  \"ผบ.สส.\"นำทหารรักษาพระองค์ สวนสนามเทิดพระเกียร...   \n",
       "\n",
       "                                             article  category  \n",
       "0  นายชูวิทย์ กมลวิศิษฎ์ หัวหน้าพรรครักประเทศไทย ...  politics  \n",
       "1  แบงก์ซีไอเอ็มบี ชี้การฟื้นฟูเศรษฐกิจติดปัญหารา...   economy  \n",
       "2  จากรายงานของบีบีซี ออสการ์ พิสตอเรียส นักวิ่งร...   foreign  \n",
       "3  เอ็มมา ลี คุณแม่ชาวอังกฤษ วัย 32 ปี ตัดสินใจอุ...   foreign  \n",
       "4  เมื่อวันที่ 3 ธ.ค. ที่มณฑลพิธีท้องสนามหลวง พล....  politics  "
      ]
     },
     "execution_count": 3,
     "metadata": {},
     "output_type": "execute_result"
    }
   ],
   "source": [
    "## drop \"date\", \"url\", and \"id\"\n",
    "df = df.drop(columns=['date','url','id'])\n",
    "df.head()"
   ]
  },
  {
   "cell_type": "code",
   "execution_count": 4,
   "metadata": {},
   "outputs": [
    {
     "data": {
      "text/plain": [
       "politics         3008\n",
       "region           2703\n",
       "crime            2053\n",
       "local            1706\n",
       "publicize        1466\n",
       "foreign          1225\n",
       "sport            1193\n",
       "economy          1158\n",
       "education         936\n",
       "entertainment     878\n",
       "Name: category, dtype: int64"
      ]
     },
     "execution_count": 4,
     "metadata": {},
     "output_type": "execute_result"
    }
   ],
   "source": [
    "## value counts of target variable\n",
    "df.category.value_counts()"
   ]
  },
  {
   "cell_type": "markdown",
   "metadata": {},
   "source": [
    "# Tokenize & train-test split\n",
    "\n",
    "- it may take more than 2 minutes\n",
    "- you can save the tokenized file by `df.to_json('XXX.json', orient='records')`"
   ]
  },
  {
   "cell_type": "code",
   "execution_count": 5,
   "metadata": {},
   "outputs": [],
   "source": [
    "df['headline_tokens'] = df.headline.apply(word_tokenize)\n",
    "df['article_tokens'] = df.article.apply(word_tokenize)"
   ]
  },
  {
   "cell_type": "code",
   "execution_count": 6,
   "metadata": {},
   "outputs": [
    {
     "data": {
      "text/html": [
       "<div>\n",
       "<style scoped>\n",
       "    .dataframe tbody tr th:only-of-type {\n",
       "        vertical-align: middle;\n",
       "    }\n",
       "\n",
       "    .dataframe tbody tr th {\n",
       "        vertical-align: top;\n",
       "    }\n",
       "\n",
       "    .dataframe thead th {\n",
       "        text-align: right;\n",
       "    }\n",
       "</style>\n",
       "<table border=\"1\" class=\"dataframe\">\n",
       "  <thead>\n",
       "    <tr style=\"text-align: right;\">\n",
       "      <th></th>\n",
       "      <th>headline</th>\n",
       "      <th>article</th>\n",
       "      <th>category</th>\n",
       "      <th>headline_tokens</th>\n",
       "      <th>article_tokens</th>\n",
       "    </tr>\n",
       "  </thead>\n",
       "  <tbody>\n",
       "    <tr>\n",
       "      <th>0</th>\n",
       "      <td>เปิดใจชัดๆ กับ'ชูวิทย์' สบู่ ขัน ต้องเตรียมไว้...</td>\n",
       "      <td>นายชูวิทย์ กมลวิศิษฎ์ หัวหน้าพรรครักประเทศไทย ...</td>\n",
       "      <td>politics</td>\n",
       "      <td>[เปิดใจ, ชัด, ๆ,  , กับ, ', ชู, วิทย์, ',  , ส...</td>\n",
       "      <td>[นาย, ชู, วิทย์,  , กมล, วิ, ศิษฎ์,  , หัวหน้า...</td>\n",
       "    </tr>\n",
       "    <tr>\n",
       "      <th>1</th>\n",
       "      <td>ลุ้นบาททะลุ40ต่อดอลล์ ปลายปี'59 เหตุสงครามค่าเ...</td>\n",
       "      <td>แบงก์ซีไอเอ็มบี ชี้การฟื้นฟูเศรษฐกิจติดปัญหารา...</td>\n",
       "      <td>economy</td>\n",
       "      <td>[ลุ้น, บาท, ทะลุ, 40, ต่อ, ดอลล์,  , ปลายปี, '...</td>\n",
       "      <td>[แบงก์, ซี, ไอ, เอ็ม, บี,  , ชี้, การฟื้นฟู, เ...</td>\n",
       "    </tr>\n",
       "    <tr>\n",
       "      <th>2</th>\n",
       "      <td>ศาลสูงแอฟริกาใต้ตัดสินให้ \"พิสตอเรียสผิดฐานฆาต...</td>\n",
       "      <td>จากรายงานของบีบีซี ออสการ์ พิสตอเรียส นักวิ่งร...</td>\n",
       "      <td>foreign</td>\n",
       "      <td>[ศาลสูง, แอฟริกาใต้, ตัดสิน, ให้,  , \"พิ, สตอ,...</td>\n",
       "      <td>[จาก, รายงาน, ของ, บีบีซี,  , ออสการ์,  , พิ, ...</td>\n",
       "    </tr>\n",
       "    <tr>\n",
       "      <th>3</th>\n",
       "      <td>แม่แดนผู้ดีฮึด! อุ้มท้องลูกแฝดแม้รู้ไม่รอด หวั...</td>\n",
       "      <td>เอ็มมา ลี คุณแม่ชาวอังกฤษ วัย 32 ปี ตัดสินใจอุ...</td>\n",
       "      <td>foreign</td>\n",
       "      <td>[แม่, แดน, ผู้ดี, ฮึด, !,  , อุ้มท้อง, ลูกแฝด,...</td>\n",
       "      <td>[เอ็ม, มา,  , ลี,  , คุณแม่, ชาว, อังกฤษ,  , ว...</td>\n",
       "    </tr>\n",
       "    <tr>\n",
       "      <th>4</th>\n",
       "      <td>\"ผบ.สส.\"นำทหารรักษาพระองค์ สวนสนามเทิดพระเกียร...</td>\n",
       "      <td>เมื่อวันที่ 3 ธ.ค. ที่มณฑลพิธีท้องสนามหลวง พล....</td>\n",
       "      <td>politics</td>\n",
       "      <td>[\", ผบ.สส., \", นำ, ทหาร, รักษา, พระองค์,  , สว...</td>\n",
       "      <td>[เมื่อ, วันที่,  , 3,  , ธ.ค.,  , ที่, มณฑล, พ...</td>\n",
       "    </tr>\n",
       "  </tbody>\n",
       "</table>\n",
       "</div>"
      ],
      "text/plain": [
       "                                            headline  \\\n",
       "0  เปิดใจชัดๆ กับ'ชูวิทย์' สบู่ ขัน ต้องเตรียมไว้...   \n",
       "1  ลุ้นบาททะลุ40ต่อดอลล์ ปลายปี'59 เหตุสงครามค่าเ...   \n",
       "2  ศาลสูงแอฟริกาใต้ตัดสินให้ \"พิสตอเรียสผิดฐานฆาต...   \n",
       "3  แม่แดนผู้ดีฮึด! อุ้มท้องลูกแฝดแม้รู้ไม่รอด หวั...   \n",
       "4  \"ผบ.สส.\"นำทหารรักษาพระองค์ สวนสนามเทิดพระเกียร...   \n",
       "\n",
       "                                             article  category  \\\n",
       "0  นายชูวิทย์ กมลวิศิษฎ์ หัวหน้าพรรครักประเทศไทย ...  politics   \n",
       "1  แบงก์ซีไอเอ็มบี ชี้การฟื้นฟูเศรษฐกิจติดปัญหารา...   economy   \n",
       "2  จากรายงานของบีบีซี ออสการ์ พิสตอเรียส นักวิ่งร...   foreign   \n",
       "3  เอ็มมา ลี คุณแม่ชาวอังกฤษ วัย 32 ปี ตัดสินใจอุ...   foreign   \n",
       "4  เมื่อวันที่ 3 ธ.ค. ที่มณฑลพิธีท้องสนามหลวง พล....  politics   \n",
       "\n",
       "                                     headline_tokens  \\\n",
       "0  [เปิดใจ, ชัด, ๆ,  , กับ, ', ชู, วิทย์, ',  , ส...   \n",
       "1  [ลุ้น, บาท, ทะลุ, 40, ต่อ, ดอลล์,  , ปลายปี, '...   \n",
       "2  [ศาลสูง, แอฟริกาใต้, ตัดสิน, ให้,  , \"พิ, สตอ,...   \n",
       "3  [แม่, แดน, ผู้ดี, ฮึด, !,  , อุ้มท้อง, ลูกแฝด,...   \n",
       "4  [\", ผบ.สส., \", นำ, ทหาร, รักษา, พระองค์,  , สว...   \n",
       "\n",
       "                                      article_tokens  \n",
       "0  [นาย, ชู, วิทย์,  , กมล, วิ, ศิษฎ์,  , หัวหน้า...  \n",
       "1  [แบงก์, ซี, ไอ, เอ็ม, บี,  , ชี้, การฟื้นฟู, เ...  \n",
       "2  [จาก, รายงาน, ของ, บีบีซี,  , ออสการ์,  , พิ, ...  \n",
       "3  [เอ็ม, มา,  , ลี,  , คุณแม่, ชาว, อังกฤษ,  , ว...  \n",
       "4  [เมื่อ, วันที่,  , 3,  , ธ.ค.,  , ที่, มณฑล, พ...  "
      ]
     },
     "execution_count": 6,
     "metadata": {},
     "output_type": "execute_result"
    }
   ],
   "source": [
    "df.head()"
   ]
  },
  {
   "cell_type": "code",
   "execution_count": 7,
   "metadata": {},
   "outputs": [
    {
     "name": "stdout",
     "output_type": "stream",
     "text": [
      "(13877, 5)\n",
      "(2449, 5)\n"
     ]
    }
   ],
   "source": [
    "train, test = train_test_split(df, test_size=0.15, random_state=42)\n",
    "\n",
    "print(train.shape)\n",
    "print(test.shape)"
   ]
  },
  {
   "cell_type": "markdown",
   "metadata": {},
   "source": [
    "# Feature Engineering\n"
   ]
  },
  {
   "cell_type": "markdown",
   "metadata": {},
   "source": [
    "### featurize function\n",
    "- input is tokenized sentence (list of str)\n",
    "- output is feature dictionary `{feature: 1}` \n",
    "- bag-of-words, but binary value (not actual count, just existence)\n",
    "- use *unigram only* or *unigram & bigram*\n",
    "- use not only tokens, but also other features, e.g. text length\n",
    "\n",
    "~~~python\n",
    "['the','boy','love','the','dog'] \n",
    "-> {'LENGTH':5, 'the':1, 'boy':1, 'love':1, 'dog':1, 'the|boy':1, 'boy|love':1, 'love|the':1, 'the|dog':1}\n",
    "~~~"
   ]
  },
  {
   "cell_type": "code",
   "execution_count": 8,
   "metadata": {},
   "outputs": [],
   "source": [
    "def featurize_unigram(tokens:list):\n",
    "    feat_dic = {}\n",
    "    for i, token in enumerate(tokens):\n",
    "        ## add unigram\n",
    "        feat_dic[token] = 1\n",
    "        ## add text length\n",
    "        feat_dic['LENGTH'] = len(tokens)\n",
    "    return feat_dic\n",
    "\n",
    "def featurize_bigram(tokens:list):\n",
    "    feat_dic = {}\n",
    "    for i, token in enumerate(tokens):\n",
    "        ## add unigram\n",
    "        feat_dic[token] = 1\n",
    "        ## add bigram\n",
    "        if i < len(tokens) - 1:\n",
    "            bigram = '|'.join(tokens[i:i+2]) # e.g. ฉัน|ไป\n",
    "            feat_dic[bigram] = 1\n",
    "        ## add text length\n",
    "        feat_dic['text_length'] = len(tokens)\n",
    "    return feat_dic\n"
   ]
  },
  {
   "cell_type": "markdown",
   "metadata": {},
   "source": [
    "### all-in-one function"
   ]
  },
  {
   "cell_type": "code",
   "execution_count": 9,
   "metadata": {},
   "outputs": [],
   "source": [
    "def train_predict(X_column_name, featurize_function_name):\n",
    "    ## make X : featurize each record as dictionary\n",
    "    X_train = train[X_column_name].apply(featurize_function_name)\n",
    "    X_test = test[X_column_name].apply(featurize_function_name)\n",
    "\n",
    "    ## make y\n",
    "    y_train = train['category']\n",
    "    y_test = test['category']\n",
    "\n",
    "    ## Instantiate DictVectorizer, LogisticRegression\n",
    "    pipe = Pipeline([\n",
    "        ('dv', DictVectorizer(sparse=True)),  ## feature dictionary -> vector\n",
    "        ('logreg', LogisticRegression(max_iter=200))\n",
    "    ])\n",
    "\n",
    "    pipe.fit(X_train, y_train)\n",
    "    y_pred = pipe.predict(X_test)\n",
    "    print(classification_report(y_test, y_pred))"
   ]
  },
  {
   "cell_type": "markdown",
   "metadata": {},
   "source": [
    "# Model Comparison"
   ]
  },
  {
   "cell_type": "markdown",
   "metadata": {},
   "source": [
    "### use `headline` + unigram feature"
   ]
  },
  {
   "cell_type": "code",
   "execution_count": 10,
   "metadata": {},
   "outputs": [
    {
     "name": "stdout",
     "output_type": "stream",
     "text": [
      "               precision    recall  f1-score   support\n",
      "\n",
      "        crime       0.57      0.58      0.57       295\n",
      "      economy       0.59      0.52      0.55       172\n",
      "    education       0.71      0.58      0.64       137\n",
      "entertainment       0.74      0.78      0.76       123\n",
      "      foreign       0.75      0.74      0.75       194\n",
      "        local       0.37      0.37      0.37       243\n",
      "     politics       0.80      0.83      0.81       475\n",
      "    publicize       0.76      0.81      0.78       230\n",
      "       region       0.59      0.63      0.61       384\n",
      "        sport       0.89      0.82      0.85       196\n",
      "\n",
      "     accuracy                           0.67      2449\n",
      "    macro avg       0.68      0.66      0.67      2449\n",
      " weighted avg       0.67      0.67      0.67      2449\n",
      "\n"
     ]
    },
    {
     "name": "stderr",
     "output_type": "stream",
     "text": [
      "/Library/Frameworks/Python.framework/Versions/3.9/lib/python3.9/site-packages/sklearn/linear_model/_logistic.py:444: ConvergenceWarning: lbfgs failed to converge (status=1):\n",
      "STOP: TOTAL NO. of ITERATIONS REACHED LIMIT.\n",
      "\n",
      "Increase the number of iterations (max_iter) or scale the data as shown in:\n",
      "    https://scikit-learn.org/stable/modules/preprocessing.html\n",
      "Please also refer to the documentation for alternative solver options:\n",
      "    https://scikit-learn.org/stable/modules/linear_model.html#logistic-regression\n",
      "  n_iter_i = _check_optimize_result(\n"
     ]
    }
   ],
   "source": [
    "train_predict('headline_tokens', featurize_unigram)"
   ]
  },
  {
   "cell_type": "markdown",
   "metadata": {},
   "source": [
    "### use `headline` + bigram feature"
   ]
  },
  {
   "cell_type": "code",
   "execution_count": 11,
   "metadata": {},
   "outputs": [
    {
     "name": "stdout",
     "output_type": "stream",
     "text": [
      "               precision    recall  f1-score   support\n",
      "\n",
      "        crime       0.62      0.63      0.62       295\n",
      "      economy       0.65      0.53      0.59       172\n",
      "    education       0.67      0.60      0.63       137\n",
      "entertainment       0.73      0.80      0.76       123\n",
      "      foreign       0.82      0.77      0.79       194\n",
      "        local       0.45      0.39      0.42       243\n",
      "     politics       0.80      0.85      0.83       475\n",
      "    publicize       0.79      0.84      0.81       230\n",
      "       region       0.61      0.68      0.64       384\n",
      "        sport       0.92      0.86      0.89       196\n",
      "\n",
      "     accuracy                           0.71      2449\n",
      "    macro avg       0.71      0.69      0.70      2449\n",
      " weighted avg       0.70      0.71      0.70      2449\n",
      "\n"
     ]
    },
    {
     "name": "stderr",
     "output_type": "stream",
     "text": [
      "/Library/Frameworks/Python.framework/Versions/3.9/lib/python3.9/site-packages/sklearn/linear_model/_logistic.py:444: ConvergenceWarning: lbfgs failed to converge (status=1):\n",
      "STOP: TOTAL NO. of ITERATIONS REACHED LIMIT.\n",
      "\n",
      "Increase the number of iterations (max_iter) or scale the data as shown in:\n",
      "    https://scikit-learn.org/stable/modules/preprocessing.html\n",
      "Please also refer to the documentation for alternative solver options:\n",
      "    https://scikit-learn.org/stable/modules/linear_model.html#logistic-regression\n",
      "  n_iter_i = _check_optimize_result(\n"
     ]
    }
   ],
   "source": [
    "train_predict('headline_tokens', featurize_bigram)"
   ]
  },
  {
   "cell_type": "markdown",
   "metadata": {},
   "source": [
    "### use `article` + unigram feature"
   ]
  },
  {
   "cell_type": "code",
   "execution_count": 12,
   "metadata": {},
   "outputs": [
    {
     "name": "stderr",
     "output_type": "stream",
     "text": [
      "/Library/Frameworks/Python.framework/Versions/3.9/lib/python3.9/site-packages/sklearn/linear_model/_logistic.py:444: ConvergenceWarning: lbfgs failed to converge (status=1):\n",
      "STOP: TOTAL NO. of ITERATIONS REACHED LIMIT.\n",
      "\n",
      "Increase the number of iterations (max_iter) or scale the data as shown in:\n",
      "    https://scikit-learn.org/stable/modules/preprocessing.html\n",
      "Please also refer to the documentation for alternative solver options:\n",
      "    https://scikit-learn.org/stable/modules/linear_model.html#logistic-regression\n",
      "  n_iter_i = _check_optimize_result(\n"
     ]
    },
    {
     "name": "stdout",
     "output_type": "stream",
     "text": [
      "               precision    recall  f1-score   support\n",
      "\n",
      "        crime       0.71      0.61      0.65       295\n",
      "      economy       0.76      0.69      0.73       172\n",
      "    education       0.62      0.73      0.67       137\n",
      "entertainment       0.85      0.93      0.89       123\n",
      "      foreign       0.97      0.93      0.95       194\n",
      "        local       0.35      0.40      0.37       243\n",
      "     politics       0.84      0.85      0.85       475\n",
      "    publicize       0.69      0.82      0.75       230\n",
      "       region       0.67      0.59      0.63       384\n",
      "        sport       0.94      0.93      0.93       196\n",
      "\n",
      "     accuracy                           0.73      2449\n",
      "    macro avg       0.74      0.75      0.74      2449\n",
      " weighted avg       0.74      0.73      0.73      2449\n",
      "\n"
     ]
    }
   ],
   "source": [
    "train_predict('article_tokens', featurize_unigram)"
   ]
  },
  {
   "cell_type": "markdown",
   "metadata": {},
   "source": [
    "### use `article` + bigram feature"
   ]
  },
  {
   "cell_type": "code",
   "execution_count": 13,
   "metadata": {},
   "outputs": [
    {
     "name": "stderr",
     "output_type": "stream",
     "text": [
      "/Library/Frameworks/Python.framework/Versions/3.9/lib/python3.9/site-packages/sklearn/linear_model/_logistic.py:444: ConvergenceWarning: lbfgs failed to converge (status=1):\n",
      "STOP: TOTAL NO. of ITERATIONS REACHED LIMIT.\n",
      "\n",
      "Increase the number of iterations (max_iter) or scale the data as shown in:\n",
      "    https://scikit-learn.org/stable/modules/preprocessing.html\n",
      "Please also refer to the documentation for alternative solver options:\n",
      "    https://scikit-learn.org/stable/modules/linear_model.html#logistic-regression\n",
      "  n_iter_i = _check_optimize_result(\n"
     ]
    },
    {
     "name": "stdout",
     "output_type": "stream",
     "text": [
      "               precision    recall  f1-score   support\n",
      "\n",
      "        crime       0.72      0.63      0.67       295\n",
      "      economy       0.83      0.78      0.80       172\n",
      "    education       0.77      0.76      0.76       137\n",
      "entertainment       0.87      0.95      0.91       123\n",
      "      foreign       0.97      0.95      0.96       194\n",
      "        local       0.53      0.38      0.44       243\n",
      "     politics       0.85      0.90      0.87       475\n",
      "    publicize       0.71      0.84      0.77       230\n",
      "       region       0.69      0.77      0.72       384\n",
      "        sport       0.95      0.92      0.94       196\n",
      "\n",
      "     accuracy                           0.78      2449\n",
      "    macro avg       0.79      0.79      0.79      2449\n",
      " weighted avg       0.78      0.78      0.78      2449\n",
      "\n"
     ]
    }
   ],
   "source": [
    "train_predict('article_tokens', featurize_bigram)"
   ]
  },
  {
   "cell_type": "code",
   "execution_count": null,
   "metadata": {},
   "outputs": [],
   "source": []
  },
  {
   "cell_type": "markdown",
   "metadata": {},
   "source": [
    "# If remove stopwords/punctuations?\n",
    "- tokenize again \n",
    "- token pattern is `[A-Za-z0-9ก-๙\\-\\.]`\n",
    "- not use bigram, because many words are removed"
   ]
  },
  {
   "cell_type": "code",
   "execution_count": 14,
   "metadata": {},
   "outputs": [],
   "source": [
    "STOPWORDS = thai_stopwords()\n",
    "\n",
    "def my_tokenize(text):\n",
    "    tokens = word_tokenize(text, keep_whitespace=False)\n",
    "    tokens = [token for token in tokens if re.match(r'[A-Za-z0-9ก-๙\\-\\.]+', token)]\n",
    "    return tokens"
   ]
  },
  {
   "cell_type": "code",
   "execution_count": 15,
   "metadata": {},
   "outputs": [
    {
     "name": "stderr",
     "output_type": "stream",
     "text": [
      "/Library/Frameworks/Python.framework/Versions/3.9/lib/python3.9/site-packages/sklearn/linear_model/_logistic.py:444: ConvergenceWarning: lbfgs failed to converge (status=1):\n",
      "STOP: TOTAL NO. of ITERATIONS REACHED LIMIT.\n",
      "\n",
      "Increase the number of iterations (max_iter) or scale the data as shown in:\n",
      "    https://scikit-learn.org/stable/modules/preprocessing.html\n",
      "Please also refer to the documentation for alternative solver options:\n",
      "    https://scikit-learn.org/stable/modules/linear_model.html#logistic-regression\n",
      "  n_iter_i = _check_optimize_result(\n"
     ]
    },
    {
     "name": "stdout",
     "output_type": "stream",
     "text": [
      "               precision    recall  f1-score   support\n",
      "\n",
      "        crime       0.71      0.61      0.65       295\n",
      "      economy       0.76      0.69      0.73       172\n",
      "    education       0.62      0.73      0.67       137\n",
      "entertainment       0.85      0.93      0.89       123\n",
      "      foreign       0.97      0.93      0.95       194\n",
      "        local       0.35      0.40      0.37       243\n",
      "     politics       0.84      0.85      0.85       475\n",
      "    publicize       0.69      0.82      0.75       230\n",
      "       region       0.67      0.59      0.63       384\n",
      "        sport       0.94      0.93      0.93       196\n",
      "\n",
      "     accuracy                           0.73      2449\n",
      "    macro avg       0.74      0.75      0.74      2449\n",
      " weighted avg       0.74      0.73      0.73      2449\n",
      "\n"
     ]
    }
   ],
   "source": [
    "df['article_tokens'] = df.article.apply(my_tokenize)\n",
    "\n",
    "train_predict('article_tokens', featurize_unigram)"
   ]
  },
  {
   "cell_type": "markdown",
   "metadata": {},
   "source": [
    "- The result is almost the same as the first result\n",
    "- Removing stopwords/punctuation did not help to improve the model in this case"
   ]
  },
  {
   "cell_type": "markdown",
   "metadata": {},
   "source": [
    "# Further Improvement\n",
    "\n",
    "- To change tokenizing method may be less helpful\n",
    "- Must modify featurize function\n",
    "    - each category has some specific characteristics except for word itself\n",
    "    - e.g. `economy` may contain many digit characters -> try to use the feature `digit_char_ratio` \n",
    "- show confusion matrix in oreder to detect which label is often misunderstood for which label"
   ]
  },
  {
   "cell_type": "markdown",
   "metadata": {},
   "source": []
  }
 ],
 "metadata": {
  "kernelspec": {
   "display_name": "Python 3.9.13 64-bit",
   "language": "python",
   "name": "python3"
  },
  "language_info": {
   "codemirror_mode": {
    "name": "ipython",
    "version": 3
   },
   "file_extension": ".py",
   "mimetype": "text/x-python",
   "name": "python",
   "nbconvert_exporter": "python",
   "pygments_lexer": "ipython3",
   "version": "3.9.13"
  },
  "orig_nbformat": 4,
  "vscode": {
   "interpreter": {
    "hash": "aee8b7b246df8f9039afb4144a1f6fd8d2ca17a180786b69acc140d282b71a49"
   }
  }
 },
 "nbformat": 4,
 "nbformat_minor": 2
}
