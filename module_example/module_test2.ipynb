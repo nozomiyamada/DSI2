{
 "cells": [
  {
   "cell_type": "code",
   "execution_count": 4,
   "metadata": {},
   "outputs": [],
   "source": [
    "from utils import standard_scaler"
   ]
  },
  {
   "cell_type": "code",
   "execution_count": 7,
   "metadata": {},
   "outputs": [
    {
     "data": {
      "text/plain": [
       "[-0.7954716334459858,\n",
       " -0.2766857855464298,\n",
       " -1.8330433292450978,\n",
       " -0.7954716334459858,\n",
       " 1.279671758152238,\n",
       " -1.3142574813455419,\n",
       " 0.7608859102526822,\n",
       " -0.2766857855464298,\n",
       " -0.2766857855464298,\n",
       " -0.7954716334459858,\n",
       " 0.2421000623531262,\n",
       " 1.798457606051794,\n",
       " 1.279671758152238,\n",
       " 0.7608859102526822,\n",
       " 0.2421000623531262]"
      ]
     },
     "execution_count": 7,
     "metadata": {},
     "output_type": "execute_result"
    }
   ],
   "source": [
    "values = [4,5,2,4,8,3,7,5,5,4,6,9,8,7,6]\n",
    "\n",
    "standard_scaler(values)"
   ]
  },
  {
   "cell_type": "code",
   "execution_count": null,
   "metadata": {},
   "outputs": [],
   "source": []
  }
 ],
 "metadata": {
  "kernelspec": {
   "display_name": "Python 3.9.13 64-bit",
   "language": "python",
   "name": "python3"
  },
  "language_info": {
   "codemirror_mode": {
    "name": "ipython",
    "version": 3
   },
   "file_extension": ".py",
   "mimetype": "text/x-python",
   "name": "python",
   "nbconvert_exporter": "python",
   "pygments_lexer": "ipython3",
   "version": "3.9.13"
  },
  "orig_nbformat": 4,
  "vscode": {
   "interpreter": {
    "hash": "aee8b7b246df8f9039afb4144a1f6fd8d2ca17a180786b69acc140d282b71a49"
   }
  }
 },
 "nbformat": 4,
 "nbformat_minor": 2
}
