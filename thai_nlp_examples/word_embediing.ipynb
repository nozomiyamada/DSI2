{
 "cells": [
  {
   "cell_type": "markdown",
   "metadata": {},
   "source": [
    "# Outline\n",
    "\n",
    "- train word embeddings by using `matichon.json`\n",
    "- use gensim `Word2Vec` model\n",
    "- find similar words, calculate cosine similarity"
   ]
  },
  {
   "cell_type": "markdown",
   "metadata": {},
   "source": [
    "# Import "
   ]
  },
  {
   "cell_type": "code",
   "execution_count": 3,
   "metadata": {},
   "outputs": [],
   "source": [
    "import pandas as pd\n",
    "import numpy as np\n",
    "import re\n",
    "\n",
    "from gensim.models import Word2Vec\n",
    "\n",
    "from pythainlp.tokenize import word_tokenize"
   ]
  },
  {
   "cell_type": "markdown",
   "metadata": {},
   "source": [
    "- custom tokenization function\n",
    "- remove all quatations and shrink newlines `\\n` and white spaces "
   ]
  },
  {
   "cell_type": "code",
   "execution_count": 5,
   "metadata": {},
   "outputs": [],
   "source": [
    "def my_tokenize(text):\n",
    "    text = re.sub(r'[\\\"\\']', '', text) # remove quotations\n",
    "    text = re.sub(r'[\\n\\t\\s]', ' ', text) # shrink newlines/spaces\n",
    "    tokens = word_tokenize(text, keep_whitespace=True)\n",
    "    return tokens"
   ]
  },
  {
   "cell_type": "markdown",
   "metadata": {},
   "source": [
    "# Load data\n",
    "\n",
    "- need only article, drop the other columns\n",
    "- tokenize article and store as list of tokens"
   ]
  },
  {
   "cell_type": "code",
   "execution_count": 12,
   "metadata": {},
   "outputs": [
    {
     "data": {
      "text/html": [
       "<div>\n",
       "<style scoped>\n",
       "    .dataframe tbody tr th:only-of-type {\n",
       "        vertical-align: middle;\n",
       "    }\n",
       "\n",
       "    .dataframe tbody tr th {\n",
       "        vertical-align: top;\n",
       "    }\n",
       "\n",
       "    .dataframe thead th {\n",
       "        text-align: right;\n",
       "    }\n",
       "</style>\n",
       "<table border=\"1\" class=\"dataframe\">\n",
       "  <thead>\n",
       "    <tr style=\"text-align: right;\">\n",
       "      <th></th>\n",
       "      <th>headline</th>\n",
       "      <th>article</th>\n",
       "      <th>date</th>\n",
       "      <th>category</th>\n",
       "      <th>url</th>\n",
       "      <th>id</th>\n",
       "    </tr>\n",
       "  </thead>\n",
       "  <tbody>\n",
       "    <tr>\n",
       "      <th>0</th>\n",
       "      <td>เปิดใจชัดๆ กับ'ชูวิทย์' สบู่ ขัน ต้องเตรียมไว้...</td>\n",
       "      <td>นายชูวิทย์ กมลวิศิษฎ์ หัวหน้าพรรครักประเทศไทย ...</td>\n",
       "      <td>2015-08-16 10:58:27</td>\n",
       "      <td>politics</td>\n",
       "      <td>https://www.matichon.co.th/politics/news_104</td>\n",
       "      <td>104</td>\n",
       "    </tr>\n",
       "    <tr>\n",
       "      <th>1</th>\n",
       "      <td>ลุ้นบาททะลุ40ต่อดอลล์ ปลายปี'59 เหตุสงครามค่าเ...</td>\n",
       "      <td>แบงก์ซีไอเอ็มบี ชี้การฟื้นฟูเศรษฐกิจติดปัญหารา...</td>\n",
       "      <td>2015-08-26 11:19:03</td>\n",
       "      <td>economy</td>\n",
       "      <td>https://www.matichon.co.th/economy/news_148</td>\n",
       "      <td>148</td>\n",
       "    </tr>\n",
       "    <tr>\n",
       "      <th>2</th>\n",
       "      <td>ศาลสูงแอฟริกาใต้ตัดสินให้ \"พิสตอเรียสผิดฐานฆาต...</td>\n",
       "      <td>จากรายงานของบีบีซี ออสการ์ พิสตอเรียส นักวิ่งร...</td>\n",
       "      <td>2015-12-04 02:52:25</td>\n",
       "      <td>foreign</td>\n",
       "      <td>https://www.matichon.co.th/foreign/news_247</td>\n",
       "      <td>247</td>\n",
       "    </tr>\n",
       "    <tr>\n",
       "      <th>3</th>\n",
       "      <td>แม่แดนผู้ดีฮึด! อุ้มท้องลูกแฝดแม้รู้ไม่รอด หวั...</td>\n",
       "      <td>เอ็มมา ลี คุณแม่ชาวอังกฤษ วัย 32 ปี ตัดสินใจอุ...</td>\n",
       "      <td>2015-12-04 03:11:37</td>\n",
       "      <td>foreign</td>\n",
       "      <td>https://www.matichon.co.th/foreign/news_268</td>\n",
       "      <td>268</td>\n",
       "    </tr>\n",
       "    <tr>\n",
       "      <th>4</th>\n",
       "      <td>\"ผบ.สส.\"นำทหารรักษาพระองค์ สวนสนามเทิดพระเกียร...</td>\n",
       "      <td>เมื่อวันที่ 3 ธ.ค. ที่มณฑลพิธีท้องสนามหลวง พล....</td>\n",
       "      <td>2015-12-04 03:38:05</td>\n",
       "      <td>politics</td>\n",
       "      <td>https://www.matichon.co.th/politics/news_295</td>\n",
       "      <td>295</td>\n",
       "    </tr>\n",
       "    <tr>\n",
       "      <th>...</th>\n",
       "      <td>...</td>\n",
       "      <td>...</td>\n",
       "      <td>...</td>\n",
       "      <td>...</td>\n",
       "      <td>...</td>\n",
       "      <td>...</td>\n",
       "    </tr>\n",
       "    <tr>\n",
       "      <th>16321</th>\n",
       "      <td>'ชาคริต-เรย์' เพื่อนซี้พ่อลูกอ่อนรวมก๊วน งานนี...</td>\n",
       "      <td>เป็นเพื่อนที่สนิทกันมาแต่ไหนแต่ไร แถมพอมีลูก ก...</td>\n",
       "      <td>2018-07-05 11:43:53</td>\n",
       "      <td>entertainment</td>\n",
       "      <td>https://www.matichon.co.th/entertainment/news_...</td>\n",
       "      <td>1029324</td>\n",
       "    </tr>\n",
       "    <tr>\n",
       "      <th>16322</th>\n",
       "      <td>สงขลาจัดงานสมโภช 176 ปี ศาลเจ้าพ่อหลักเมือง</td>\n",
       "      <td>วันที่ 5 ก.ค. นายสมศักดิ์ ตันติเศรณี นายก ทน.ส...</td>\n",
       "      <td>2018-07-05 10:59:53</td>\n",
       "      <td>region</td>\n",
       "      <td>https://www.matichon.co.th/region/news_1029328</td>\n",
       "      <td>1029328</td>\n",
       "    </tr>\n",
       "    <tr>\n",
       "      <th>16323</th>\n",
       "      <td>'สมคิด' ลั่น ไม่ใช่แค่สามมิตร แต่มีมวลหมู่มหาม...</td>\n",
       "      <td>\"สมคิด\" ลั่นไม่ใช่แค่สามมิตร แต่มีมวลหมู่มหามิ...</td>\n",
       "      <td>2018-07-05 12:09:08</td>\n",
       "      <td>politics</td>\n",
       "      <td>https://www.matichon.co.th/politics/news_1029410</td>\n",
       "      <td>1029410</td>\n",
       "    </tr>\n",
       "    <tr>\n",
       "      <th>16324</th>\n",
       "      <td>ม.รามฯปฐมนิเทศ นศ.ใหม่ ตั้งใจศึกษาให้สำเร็จ-มี...</td>\n",
       "      <td>ผู้ช่วยศาสตราจารย์วุฒิศักดิ์  ลาภเจริญทรัพย์ อ...</td>\n",
       "      <td>2018-07-05 13:45:34</td>\n",
       "      <td>publicize</td>\n",
       "      <td>https://www.matichon.co.th/publicize/news_1029659</td>\n",
       "      <td>1029659</td>\n",
       "    </tr>\n",
       "    <tr>\n",
       "      <th>16325</th>\n",
       "      <td>'ณรงค์ศักดิ์' บอกลา-ออกจากกลุ่มไลน์ 'หน.ส่วนรา...</td>\n",
       "      <td>\"ณรงค์ศักดิ์\" ไลน์ลา \"หัวหน้าส่วนราชการจังหวัด...</td>\n",
       "      <td>2018-07-05 15:36:04</td>\n",
       "      <td>politics</td>\n",
       "      <td>https://www.matichon.co.th/politics/news_1029955</td>\n",
       "      <td>1029955</td>\n",
       "    </tr>\n",
       "  </tbody>\n",
       "</table>\n",
       "<p>16326 rows × 6 columns</p>\n",
       "</div>"
      ],
      "text/plain": [
       "                                                headline  \\\n",
       "0      เปิดใจชัดๆ กับ'ชูวิทย์' สบู่ ขัน ต้องเตรียมไว้...   \n",
       "1      ลุ้นบาททะลุ40ต่อดอลล์ ปลายปี'59 เหตุสงครามค่าเ...   \n",
       "2      ศาลสูงแอฟริกาใต้ตัดสินให้ \"พิสตอเรียสผิดฐานฆาต...   \n",
       "3      แม่แดนผู้ดีฮึด! อุ้มท้องลูกแฝดแม้รู้ไม่รอด หวั...   \n",
       "4      \"ผบ.สส.\"นำทหารรักษาพระองค์ สวนสนามเทิดพระเกียร...   \n",
       "...                                                  ...   \n",
       "16321  'ชาคริต-เรย์' เพื่อนซี้พ่อลูกอ่อนรวมก๊วน งานนี...   \n",
       "16322        สงขลาจัดงานสมโภช 176 ปี ศาลเจ้าพ่อหลักเมือง   \n",
       "16323  'สมคิด' ลั่น ไม่ใช่แค่สามมิตร แต่มีมวลหมู่มหาม...   \n",
       "16324  ม.รามฯปฐมนิเทศ นศ.ใหม่ ตั้งใจศึกษาให้สำเร็จ-มี...   \n",
       "16325  'ณรงค์ศักดิ์' บอกลา-ออกจากกลุ่มไลน์ 'หน.ส่วนรา...   \n",
       "\n",
       "                                                 article                date  \\\n",
       "0      นายชูวิทย์ กมลวิศิษฎ์ หัวหน้าพรรครักประเทศไทย ... 2015-08-16 10:58:27   \n",
       "1      แบงก์ซีไอเอ็มบี ชี้การฟื้นฟูเศรษฐกิจติดปัญหารา... 2015-08-26 11:19:03   \n",
       "2      จากรายงานของบีบีซี ออสการ์ พิสตอเรียส นักวิ่งร... 2015-12-04 02:52:25   \n",
       "3      เอ็มมา ลี คุณแม่ชาวอังกฤษ วัย 32 ปี ตัดสินใจอุ... 2015-12-04 03:11:37   \n",
       "4      เมื่อวันที่ 3 ธ.ค. ที่มณฑลพิธีท้องสนามหลวง พล.... 2015-12-04 03:38:05   \n",
       "...                                                  ...                 ...   \n",
       "16321  เป็นเพื่อนที่สนิทกันมาแต่ไหนแต่ไร แถมพอมีลูก ก... 2018-07-05 11:43:53   \n",
       "16322  วันที่ 5 ก.ค. นายสมศักดิ์ ตันติเศรณี นายก ทน.ส... 2018-07-05 10:59:53   \n",
       "16323  \"สมคิด\" ลั่นไม่ใช่แค่สามมิตร แต่มีมวลหมู่มหามิ... 2018-07-05 12:09:08   \n",
       "16324  ผู้ช่วยศาสตราจารย์วุฒิศักดิ์  ลาภเจริญทรัพย์ อ... 2018-07-05 13:45:34   \n",
       "16325  \"ณรงค์ศักดิ์\" ไลน์ลา \"หัวหน้าส่วนราชการจังหวัด... 2018-07-05 15:36:04   \n",
       "\n",
       "            category                                                url  \\\n",
       "0           politics       https://www.matichon.co.th/politics/news_104   \n",
       "1            economy        https://www.matichon.co.th/economy/news_148   \n",
       "2            foreign        https://www.matichon.co.th/foreign/news_247   \n",
       "3            foreign        https://www.matichon.co.th/foreign/news_268   \n",
       "4           politics       https://www.matichon.co.th/politics/news_295   \n",
       "...              ...                                                ...   \n",
       "16321  entertainment  https://www.matichon.co.th/entertainment/news_...   \n",
       "16322         region     https://www.matichon.co.th/region/news_1029328   \n",
       "16323       politics   https://www.matichon.co.th/politics/news_1029410   \n",
       "16324      publicize  https://www.matichon.co.th/publicize/news_1029659   \n",
       "16325       politics   https://www.matichon.co.th/politics/news_1029955   \n",
       "\n",
       "            id  \n",
       "0          104  \n",
       "1          148  \n",
       "2          247  \n",
       "3          268  \n",
       "4          295  \n",
       "...        ...  \n",
       "16321  1029324  \n",
       "16322  1029328  \n",
       "16323  1029410  \n",
       "16324  1029659  \n",
       "16325  1029955  \n",
       "\n",
       "[16326 rows x 6 columns]"
      ]
     },
     "execution_count": 12,
     "metadata": {},
     "output_type": "execute_result"
    }
   ],
   "source": [
    "df = pd.read_json('data/matichon.json')\n",
    "df"
   ]
  },
  {
   "cell_type": "code",
   "execution_count": 13,
   "metadata": {},
   "outputs": [
    {
     "data": {
      "text/html": [
       "<div>\n",
       "<style scoped>\n",
       "    .dataframe tbody tr th:only-of-type {\n",
       "        vertical-align: middle;\n",
       "    }\n",
       "\n",
       "    .dataframe tbody tr th {\n",
       "        vertical-align: top;\n",
       "    }\n",
       "\n",
       "    .dataframe thead th {\n",
       "        text-align: right;\n",
       "    }\n",
       "</style>\n",
       "<table border=\"1\" class=\"dataframe\">\n",
       "  <thead>\n",
       "    <tr style=\"text-align: right;\">\n",
       "      <th></th>\n",
       "      <th>article</th>\n",
       "      <th>category</th>\n",
       "      <th>article_tokens</th>\n",
       "    </tr>\n",
       "  </thead>\n",
       "  <tbody>\n",
       "    <tr>\n",
       "      <th>0</th>\n",
       "      <td>นายชูวิทย์ กมลวิศิษฎ์ หัวหน้าพรรครักประเทศไทย ...</td>\n",
       "      <td>politics</td>\n",
       "      <td>[นาย, ชู, วิทย์,  , กมล, วิ, ศิษฎ์,  , หัวหน้า...</td>\n",
       "    </tr>\n",
       "    <tr>\n",
       "      <th>1</th>\n",
       "      <td>แบงก์ซีไอเอ็มบี ชี้การฟื้นฟูเศรษฐกิจติดปัญหารา...</td>\n",
       "      <td>economy</td>\n",
       "      <td>[แบงก์, ซี, ไอ, เอ็ม, บี,  , ชี้, การฟื้นฟู, เ...</td>\n",
       "    </tr>\n",
       "    <tr>\n",
       "      <th>2</th>\n",
       "      <td>จากรายงานของบีบีซี ออสการ์ พิสตอเรียส นักวิ่งร...</td>\n",
       "      <td>foreign</td>\n",
       "      <td>[จาก, รายงาน, ของ, บีบีซี,  , ออสการ์,  , พิ, ...</td>\n",
       "    </tr>\n",
       "    <tr>\n",
       "      <th>3</th>\n",
       "      <td>เอ็มมา ลี คุณแม่ชาวอังกฤษ วัย 32 ปี ตัดสินใจอุ...</td>\n",
       "      <td>foreign</td>\n",
       "      <td>[เอ็ม, มา,  , ลี,  , คุณแม่, ชาว, อังกฤษ,  , ว...</td>\n",
       "    </tr>\n",
       "    <tr>\n",
       "      <th>4</th>\n",
       "      <td>เมื่อวันที่ 3 ธ.ค. ที่มณฑลพิธีท้องสนามหลวง พล....</td>\n",
       "      <td>politics</td>\n",
       "      <td>[เมื่อ, วันที่,  , 3,  , ธ.ค.,  , ที่, มณฑล, พ...</td>\n",
       "    </tr>\n",
       "    <tr>\n",
       "      <th>...</th>\n",
       "      <td>...</td>\n",
       "      <td>...</td>\n",
       "      <td>...</td>\n",
       "    </tr>\n",
       "    <tr>\n",
       "      <th>16321</th>\n",
       "      <td>เป็นเพื่อนที่สนิทกันมาแต่ไหนแต่ไร แถมพอมีลูก ก...</td>\n",
       "      <td>entertainment</td>\n",
       "      <td>[เป็นเพื่อน, ที่, สนิท, กัน, มา, แต่ไหนแต่ไร, ...</td>\n",
       "    </tr>\n",
       "    <tr>\n",
       "      <th>16322</th>\n",
       "      <td>วันที่ 5 ก.ค. นายสมศักดิ์ ตันติเศรณี นายก ทน.ส...</td>\n",
       "      <td>region</td>\n",
       "      <td>[วันที่,  , 5,  , ก.ค.,  , นาย, สม, ศักดิ์,  ,...</td>\n",
       "    </tr>\n",
       "    <tr>\n",
       "      <th>16323</th>\n",
       "      <td>\"สมคิด\" ลั่นไม่ใช่แค่สามมิตร แต่มีมวลหมู่มหามิ...</td>\n",
       "      <td>politics</td>\n",
       "      <td>[สม, คิด,  , ลั่น, ไม่, ใช่, แค่, สาม, มิตร,  ...</td>\n",
       "    </tr>\n",
       "    <tr>\n",
       "      <th>16324</th>\n",
       "      <td>ผู้ช่วยศาสตราจารย์วุฒิศักดิ์  ลาภเจริญทรัพย์ อ...</td>\n",
       "      <td>publicize</td>\n",
       "      <td>[ผู้ช่วยศาสตราจารย์, วุฒิ, ศักดิ์,   , ลาภ, เจ...</td>\n",
       "    </tr>\n",
       "    <tr>\n",
       "      <th>16325</th>\n",
       "      <td>\"ณรงค์ศักดิ์\" ไลน์ลา \"หัวหน้าส่วนราชการจังหวัด...</td>\n",
       "      <td>politics</td>\n",
       "      <td>[ณรงค์, ศักดิ์,  , ไลน์, ลา,  , หัวหน้า, ส่วนร...</td>\n",
       "    </tr>\n",
       "  </tbody>\n",
       "</table>\n",
       "<p>16326 rows × 3 columns</p>\n",
       "</div>"
      ],
      "text/plain": [
       "                                                 article       category  \\\n",
       "0      นายชูวิทย์ กมลวิศิษฎ์ หัวหน้าพรรครักประเทศไทย ...       politics   \n",
       "1      แบงก์ซีไอเอ็มบี ชี้การฟื้นฟูเศรษฐกิจติดปัญหารา...        economy   \n",
       "2      จากรายงานของบีบีซี ออสการ์ พิสตอเรียส นักวิ่งร...        foreign   \n",
       "3      เอ็มมา ลี คุณแม่ชาวอังกฤษ วัย 32 ปี ตัดสินใจอุ...        foreign   \n",
       "4      เมื่อวันที่ 3 ธ.ค. ที่มณฑลพิธีท้องสนามหลวง พล....       politics   \n",
       "...                                                  ...            ...   \n",
       "16321  เป็นเพื่อนที่สนิทกันมาแต่ไหนแต่ไร แถมพอมีลูก ก...  entertainment   \n",
       "16322  วันที่ 5 ก.ค. นายสมศักดิ์ ตันติเศรณี นายก ทน.ส...         region   \n",
       "16323  \"สมคิด\" ลั่นไม่ใช่แค่สามมิตร แต่มีมวลหมู่มหามิ...       politics   \n",
       "16324  ผู้ช่วยศาสตราจารย์วุฒิศักดิ์  ลาภเจริญทรัพย์ อ...      publicize   \n",
       "16325  \"ณรงค์ศักดิ์\" ไลน์ลา \"หัวหน้าส่วนราชการจังหวัด...       politics   \n",
       "\n",
       "                                          article_tokens  \n",
       "0      [นาย, ชู, วิทย์,  , กมล, วิ, ศิษฎ์,  , หัวหน้า...  \n",
       "1      [แบงก์, ซี, ไอ, เอ็ม, บี,  , ชี้, การฟื้นฟู, เ...  \n",
       "2      [จาก, รายงาน, ของ, บีบีซี,  , ออสการ์,  , พิ, ...  \n",
       "3      [เอ็ม, มา,  , ลี,  , คุณแม่, ชาว, อังกฤษ,  , ว...  \n",
       "4      [เมื่อ, วันที่,  , 3,  , ธ.ค.,  , ที่, มณฑล, พ...  \n",
       "...                                                  ...  \n",
       "16321  [เป็นเพื่อน, ที่, สนิท, กัน, มา, แต่ไหนแต่ไร, ...  \n",
       "16322  [วันที่,  , 5,  , ก.ค.,  , นาย, สม, ศักดิ์,  ,...  \n",
       "16323  [สม, คิด,  , ลั่น, ไม่, ใช่, แค่, สาม, มิตร,  ...  \n",
       "16324  [ผู้ช่วยศาสตราจารย์, วุฒิ, ศักดิ์,   , ลาภ, เจ...  \n",
       "16325  [ณรงค์, ศักดิ์,  , ไลน์, ลา,  , หัวหน้า, ส่วนร...  \n",
       "\n",
       "[16326 rows x 3 columns]"
      ]
     },
     "execution_count": 13,
     "metadata": {},
     "output_type": "execute_result"
    }
   ],
   "source": [
    "## drop column except for article\n",
    "df = df.drop(columns=['date', 'headline', 'url','id'])\n",
    "\n",
    "## tokenize\n",
    "df['article_tokens'] = df['article'].apply(my_tokenize)\n",
    "\n",
    "df"
   ]
  },
  {
   "cell_type": "markdown",
   "metadata": {},
   "source": [
    "# Train model\n",
    "\n",
    "how to use :\n",
    "[https://radimrehurek.com/gensim/models/word2vec.html](https://radimrehurek.com/gensim/models/word2vec.html)\n",
    "\n",
    "- input of `Word2Vec` must be **list of list of tokens**\n",
    "- `vector_size` : Dimensionality of the word vectors (usually 100-300)\n",
    "- `window` : Maximum distance between the current and predicted word within a sentence\n",
    "- `min_count` : Ignores all words with total frequency lower than this\n",
    "- `sg` : Training algorithm: 1 for skip-gram; otherwise CBOW. (skip-gram is recommended)\n",
    "- `epoch` : Number of iterations (epochs) over the corpus"
   ]
  },
  {
   "cell_type": "code",
   "execution_count": 43,
   "metadata": {},
   "outputs": [],
   "source": [
    "## train\n",
    "model = Word2Vec(sentences=df['article_tokens'], vector_size=100, window=5, min_count=3, sg=1, epochs=30)"
   ]
  },
  {
   "cell_type": "markdown",
   "metadata": {},
   "source": [
    "# Word Embeddings\n",
    "\n",
    "- `model.wv.most_similar(word, topn=xx)` gives the top N words with high cosine similarity \n"
   ]
  },
  {
   "cell_type": "code",
   "execution_count": 45,
   "metadata": {},
   "outputs": [
    {
     "data": {
      "text/plain": [
       "[('รสชาติ', 0.8352956175804138),\n",
       " ('เมนู', 0.7987961769104004),\n",
       " ('ถูกปาก', 0.7343130707740784),\n",
       " ('ลิ้มลอง', 0.7331318855285645),\n",
       " ('หมูสับ', 0.7211061120033264),\n",
       " ('แซลมอน', 0.7199339270591736),\n",
       " ('บาร์บีคิว', 0.7173497080802917),\n",
       " ('สุกี้ยากี้', 0.7113039493560791),\n",
       " ('รสเปรี้ยว', 0.7110312581062317),\n",
       " ('กลมกล่อม', 0.7064458727836609),\n",
       " ('เครื่องเคียง', 0.7012359499931335),\n",
       " ('หวาน', 0.6998612880706787),\n",
       " ('ไข่เค็ม', 0.6992987394332886),\n",
       " ('ต้นตำรับ', 0.6863528490066528),\n",
       " ('เผ็ด', 0.6858212947845459)]"
      ]
     },
     "execution_count": 45,
     "metadata": {},
     "output_type": "execute_result"
    }
   ],
   "source": [
    "model.wv.most_similar('อร่อย', topn=15)"
   ]
  },
  {
   "cell_type": "markdown",
   "metadata": {},
   "source": [
    "- `model.wv.similarity(word1, word2)` calculates the cosine similarity of the 2 words"
   ]
  },
  {
   "cell_type": "code",
   "execution_count": 46,
   "metadata": {},
   "outputs": [
    {
     "data": {
      "text/plain": [
       "0.8152483"
      ]
     },
     "execution_count": 46,
     "metadata": {},
     "output_type": "execute_result"
    }
   ],
   "source": [
    "model.wv.similarity('ผู้ชาย', 'ผู้หญิง')"
   ]
  },
  {
   "cell_type": "markdown",
   "metadata": {},
   "source": [
    "- `model.wv` is like a dictionary. `model.wv[word]` gives the vector of the word"
   ]
  },
  {
   "cell_type": "code",
   "execution_count": 47,
   "metadata": {},
   "outputs": [
    {
     "data": {
      "text/plain": [
       "array([ 0.4113333 ,  0.11535873,  0.3334668 ,  0.634968  , -0.79331905,\n",
       "        0.15287226, -0.3688044 ,  0.99255854, -0.08796303, -0.18494396,\n",
       "       -0.67945313, -0.31490067,  0.12990588,  0.20420446, -0.10080083,\n",
       "       -0.22775249,  0.39435497,  0.46160975,  0.6028755 ,  0.15873283,\n",
       "        0.24331482, -0.09094347,  0.20604244, -0.24414434,  0.513986  ,\n",
       "       -0.18136539, -0.29593354, -0.70221883, -0.50965405, -0.35629502,\n",
       "        0.22213638,  0.22186008,  0.8405408 , -0.57750523, -0.01938633,\n",
       "        0.48217067, -0.27887267,  0.07273053, -0.6433986 , -0.8796424 ,\n",
       "       -0.1725576 , -0.07223132,  0.21523806,  0.17130417, -0.0285441 ,\n",
       "        0.24849537, -0.46890974,  0.2727813 ,  0.04804863,  0.24120227,\n",
       "       -0.14758715,  0.10566989, -0.50972575, -0.48751384, -0.35548687,\n",
       "        0.5925638 , -0.27028757, -0.04879678, -0.85844374,  0.2868777 ,\n",
       "        0.5999778 , -0.21262947,  0.22327693,  0.22273839, -0.02717081,\n",
       "        0.17981869, -0.18467578, -0.2084532 ,  0.24859849,  0.6979391 ,\n",
       "       -0.19474976, -0.06137919,  0.7459075 , -0.21746331,  1.1588619 ,\n",
       "       -0.3018705 ,  0.5625845 ,  0.6968642 ,  0.48853722,  0.37325197,\n",
       "       -0.30788282,  0.24624264, -0.30841592,  0.22717148, -0.3291554 ,\n",
       "       -0.5334885 ,  0.5611635 ,  0.30104724,  0.39120466, -0.10890009,\n",
       "       -0.3367766 ,  0.4304264 ,  0.52827924,  0.11697316,  0.9146674 ,\n",
       "        0.11667813, -0.06011951, -0.15643337, -0.2853305 ,  0.38304374],\n",
       "      dtype=float32)"
      ]
     },
     "execution_count": 47,
     "metadata": {},
     "output_type": "execute_result"
    }
   ],
   "source": [
    "model.wv['อร่อย']"
   ]
  },
  {
   "cell_type": "markdown",
   "metadata": {},
   "source": [
    "- `model.wv.most_similar()` can add/subtract vectors\n",
    "- use argument `positive` and `negative`, e.g. `model.wv.most_similar(positive=[w1, w2], negative=[w3])`"
   ]
  },
  {
   "cell_type": "code",
   "execution_count": 48,
   "metadata": {},
   "outputs": [
    {
     "data": {
      "text/plain": [
       "[('โซล', 0.5920867919921875),\n",
       " ('กรุง', 0.5373151898384094),\n",
       " ('ประชุมสุดยอด', 0.5288278460502625),\n",
       " ('อาบูดาบี', 0.5138489007949829),\n",
       " ('มุมไบ', 0.5113369226455688),\n",
       " ('เปียงยาง', 0.5070136785507202),\n",
       " ('ดูไบ', 0.5028671622276306),\n",
       " ('บริติช', 0.4936085641384125),\n",
       " ('ริยาด', 0.48732423782348633),\n",
       " ('มอสโคว์', 0.48513826727867126)]"
      ]
     },
     "execution_count": 48,
     "metadata": {},
     "output_type": "execute_result"
    }
   ],
   "source": [
    "## ปักกิ่ง - จีน + เกาหลี\n",
    "model.wv.most_similar(positive=['ปักกิ่ง', 'เกาหลี'], negative=['จีน'])"
   ]
  },
  {
   "cell_type": "markdown",
   "metadata": {},
   "source": [
    "# save & load model"
   ]
  },
  {
   "cell_type": "code",
   "execution_count": 44,
   "metadata": {},
   "outputs": [],
   "source": [
    "## save the model\n",
    "model.save(\"word2vec_matichon.model\")"
   ]
  },
  {
   "cell_type": "code",
   "execution_count": 50,
   "metadata": {},
   "outputs": [
    {
     "data": {
      "text/plain": [
       "[('เซ็กซี่', 0.6897033452987671),\n",
       " ('เข้าคู่', 0.6745166778564453),\n",
       " ('ฉายแวว', 0.6581156253814697),\n",
       " ('ชุดว่ายน้ำ', 0.65362948179245),\n",
       " ('ดูดี', 0.64291912317276),\n",
       " ('เย้ายวน', 0.6369034051895142),\n",
       " ('ความโหด', 0.6348311901092529),\n",
       " ('ชวนมอง', 0.6313931345939636),\n",
       " ('หวานฉ่ำ', 0.6252356767654419),\n",
       " ('เนี้ยบ', 0.6158441305160522)]"
      ]
     },
     "execution_count": 50,
     "metadata": {},
     "output_type": "execute_result"
    }
   ],
   "source": [
    "## load model \n",
    "model_loaded = Word2Vec.load(\"word2vec_matichon.model\")\n",
    "model_loaded.wv.most_similar('สวย')"
   ]
  }
 ],
 "metadata": {
  "kernelspec": {
   "display_name": "Python 3.9.13 64-bit",
   "language": "python",
   "name": "python3"
  },
  "language_info": {
   "codemirror_mode": {
    "name": "ipython",
    "version": 3
   },
   "file_extension": ".py",
   "mimetype": "text/x-python",
   "name": "python",
   "nbconvert_exporter": "python",
   "pygments_lexer": "ipython3",
   "version": "3.9.13"
  },
  "orig_nbformat": 4,
  "vscode": {
   "interpreter": {
    "hash": "aee8b7b246df8f9039afb4144a1f6fd8d2ca17a180786b69acc140d282b71a49"
   }
  }
 },
 "nbformat": 4,
 "nbformat_minor": 2
}
